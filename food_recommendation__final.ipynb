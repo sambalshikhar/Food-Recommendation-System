{
  "nbformat": 4,
  "nbformat_minor": 0,
  "metadata": {
    "colab": {
      "name": "food_recommendation _final.ipynb",
      "provenance": [],
      "collapsed_sections": [],
      "toc_visible": true,
      "machine_shape": "hm"
    },
    "kernelspec": {
      "name": "python3",
      "display_name": "Python 3"
    }
  },
  "cells": [
    {
      "cell_type": "code",
      "metadata": {
        "id": "ig6bfv3QiVD0",
        "colab_type": "code",
        "outputId": "ea236382-0da3-45d7-d784-fc04322c160e",
        "colab": {
          "base_uri": "https://localhost:8080/",
          "height": 70
        }
      },
      "source": [
        "#Downloading Dataset directly into the harddrive\n",
        "!curl --header \"Host: storage.googleapis.com\" --header \"User-Agent: Mozilla/5.0 (Windows NT 10.0; Win64; x64) AppleWebKit/537.36 (KHTML, like Gecko) Chrome/77.0.3865.120 Safari/537.36\" --header \"Accept: text/html,application/xhtml+xml,application/xml;q=0.9,image/webp,image/apng,*/*;q=0.8,application/signed-exchange;v=b3\" --header \"Accept-Language: en-IN,en-GB;q=0.9,en-US;q=0.8,en;q=0.7,mr;q=0.6,hi;q=0.5,pa;q=0.4\" --header \"Referer: https://eightportions.com/datasets/Recipes/\" \"https://storage.googleapis.com/recipe-box/recipes_raw.zip\" -o \"recipes_raw.zip\" -L"
      ],
      "execution_count": 199,
      "outputs": [
        {
          "output_type": "stream",
          "text": [
            "  % Total    % Received % Xferd  Average Speed   Time    Time     Time  Current\n",
            "                                 Dload  Upload   Total   Spent    Left  Speed\n",
            "100 50.8M  100 50.8M    0     0  37.3M      0  0:00:01  0:00:01 --:--:-- 37.3M\n"
          ],
          "name": "stdout"
        }
      ]
    },
    {
      "cell_type": "code",
      "metadata": {
        "id": "jzgsYmGeixcR",
        "colab_type": "code",
        "colab": {}
      },
      "source": [
        "#Unpack the zip file\n",
        "import shutil\n",
        "shutil.unpack_archive('/content/recipes_raw.zip')"
      ],
      "execution_count": 0,
      "outputs": []
    },
    {
      "cell_type": "code",
      "metadata": {
        "id": "HDtTMD12KmTO",
        "colab_type": "code",
        "colab": {}
      },
      "source": [
        "import requests \n",
        "import urllib3\n",
        "from bs4 import BeautifulSoup\n",
        "import nltk\n",
        "import numpy as np\n",
        "import matplotlib.pyplot as plt\n",
        "import seaborn as sns"
      ],
      "execution_count": 0,
      "outputs": []
    },
    {
      "cell_type": "code",
      "metadata": {
        "id": "MwBt5KF3ApUL",
        "colab_type": "code",
        "colab": {}
      },
      "source": [
        "import re"
      ],
      "execution_count": 0,
      "outputs": []
    },
    {
      "cell_type": "code",
      "metadata": {
        "id": "tFDiGxsCdUGa",
        "colab_type": "code",
        "colab": {}
      },
      "source": [
        "import pandas as pd\n",
        "import json\n",
        "\n",
        "df=pd.read_json('/content/recipes_raw_nosource_epi.json',orient='frame').drop(['picture_link'])"
      ],
      "execution_count": 0,
      "outputs": []
    },
    {
      "cell_type": "code",
      "metadata": {
        "id": "xf3z5fn8dHQN",
        "colab_type": "code",
        "colab": {}
      },
      "source": [
        "df=df.transpose()[['ingredients','title']]"
      ],
      "execution_count": 0,
      "outputs": []
    },
    {
      "cell_type": "code",
      "metadata": {
        "id": "cE3tVsVids8e",
        "colab_type": "code",
        "outputId": "7386f3cb-e1d4-457c-c41d-df3ec80e600d",
        "colab": {
          "base_uri": "https://localhost:8080/",
          "height": 194
        }
      },
      "source": [
        "df.reset_index(drop='True').ingredients[1]"
      ],
      "execution_count": 285,
      "outputs": [
        {
          "output_type": "execute_result",
          "data": {
            "text/plain": [
              "['18 fresh chestnuts',\n",
              " '2 1/2 pounds veal stew meat, cut into 2x1-inch pieces',\n",
              " '4 tablespoons olive oil',\n",
              " '1 1/2 cups chopped onion',\n",
              " '1 1/2 tablespoons chopped garlic',\n",
              " '1 bay leaf',\n",
              " '2 1/2 cups canned low-salt chicken broth',\n",
              " '3/4 cup dry white wine',\n",
              " '6 medium carrots, peeled, cut into 1-inch pieces',\n",
              " '3 tablespoons chopped fresh sage']"
            ]
          },
          "metadata": {
            "tags": []
          },
          "execution_count": 285
        }
      ]
    },
    {
      "cell_type": "code",
      "metadata": {
        "id": "_jdZz_2d7GkD",
        "colab_type": "code",
        "colab": {}
      },
      "source": [
        "df=df.reset_index(drop='True')"
      ],
      "execution_count": 0,
      "outputs": []
    },
    {
      "cell_type": "code",
      "metadata": {
        "id": "89fPsCpO8dfK",
        "colab_type": "code",
        "outputId": "b72cbd87-52a0-40f6-bfd3-d7d4560bb8f2",
        "colab": {
          "base_uri": "https://localhost:8080/",
          "height": 347
        }
      },
      "source": [
        "df.head(10)"
      ],
      "execution_count": 287,
      "outputs": [
        {
          "output_type": "execute_result",
          "data": {
            "text/html": [
              "<div>\n",
              "<style scoped>\n",
              "    .dataframe tbody tr th:only-of-type {\n",
              "        vertical-align: middle;\n",
              "    }\n",
              "\n",
              "    .dataframe tbody tr th {\n",
              "        vertical-align: top;\n",
              "    }\n",
              "\n",
              "    .dataframe thead th {\n",
              "        text-align: right;\n",
              "    }\n",
              "</style>\n",
              "<table border=\"1\" class=\"dataframe\">\n",
              "  <thead>\n",
              "    <tr style=\"text-align: right;\">\n",
              "      <th></th>\n",
              "      <th>ingredients</th>\n",
              "      <th>title</th>\n",
              "    </tr>\n",
              "  </thead>\n",
              "  <tbody>\n",
              "    <tr>\n",
              "      <th>0</th>\n",
              "      <td>[12 egg whites, 12 egg yolks, 1 1/2 cups sugar...</td>\n",
              "      <td>Christmas Eggnog</td>\n",
              "    </tr>\n",
              "    <tr>\n",
              "      <th>1</th>\n",
              "      <td>[18 fresh chestnuts, 2 1/2 pounds veal stew me...</td>\n",
              "      <td>Veal, Carrot and Chestnut Ragoût</td>\n",
              "    </tr>\n",
              "    <tr>\n",
              "      <th>2</th>\n",
              "      <td>[2 tablespoons unsalted butter, softened, 4 or...</td>\n",
              "      <td>Caramelized Bread Pudding with Chocolate and C...</td>\n",
              "    </tr>\n",
              "    <tr>\n",
              "      <th>3</th>\n",
              "      <td>[3/4 pound Stilton, crumbled (about 3 cups) an...</td>\n",
              "      <td>Sherried Stilton and Green Peppercorn Spread</td>\n",
              "    </tr>\n",
              "    <tr>\n",
              "      <th>4</th>\n",
              "      <td>[2 cups (about 9 1/2 ounces) whole almonds, to...</td>\n",
              "      <td>Almond-Chocolate Macaroons</td>\n",
              "    </tr>\n",
              "    <tr>\n",
              "      <th>5</th>\n",
              "      <td>[2 tablespoons butter, 2 tablespoons flour, 1 ...</td>\n",
              "      <td>White Sauce or Bechamel Sauce</td>\n",
              "    </tr>\n",
              "    <tr>\n",
              "      <th>6</th>\n",
              "      <td>[1/2 teaspoon finely grated fresh lemon zest, ...</td>\n",
              "      <td>Grilled Whole Mackerel with Lemon, Oregano, an...</td>\n",
              "    </tr>\n",
              "    <tr>\n",
              "      <th>7</th>\n",
              "      <td>[2 garlic cloves, finely chopped, 2 teaspoons ...</td>\n",
              "      <td>Apricot Chutney</td>\n",
              "    </tr>\n",
              "    <tr>\n",
              "      <th>8</th>\n",
              "      <td>[2 tablespoons (1/4 stick) butter, 1/4 cup oli...</td>\n",
              "      <td>Garlic Croutons</td>\n",
              "    </tr>\n",
              "    <tr>\n",
              "      <th>9</th>\n",
              "      <td>[1 recipe pâte à chou, About 1 cup pastry crea...</td>\n",
              "      <td>Christmas Croquembouche</td>\n",
              "    </tr>\n",
              "  </tbody>\n",
              "</table>\n",
              "</div>"
            ],
            "text/plain": [
              "                                         ingredients                                              title\n",
              "0  [12 egg whites, 12 egg yolks, 1 1/2 cups sugar...                                  Christmas Eggnog \n",
              "1  [18 fresh chestnuts, 2 1/2 pounds veal stew me...                  Veal, Carrot and Chestnut Ragoût \n",
              "2  [2 tablespoons unsalted butter, softened, 4 or...  Caramelized Bread Pudding with Chocolate and C...\n",
              "3  [3/4 pound Stilton, crumbled (about 3 cups) an...      Sherried Stilton and Green Peppercorn Spread \n",
              "4  [2 cups (about 9 1/2 ounces) whole almonds, to...                        Almond-Chocolate Macaroons \n",
              "5  [2 tablespoons butter, 2 tablespoons flour, 1 ...                     White Sauce or Bechamel Sauce \n",
              "6  [1/2 teaspoon finely grated fresh lemon zest, ...  Grilled Whole Mackerel with Lemon, Oregano, an...\n",
              "7  [2 garlic cloves, finely chopped, 2 teaspoons ...                                   Apricot Chutney \n",
              "8  [2 tablespoons (1/4 stick) butter, 1/4 cup oli...                                   Garlic Croutons \n",
              "9  [1 recipe pâte à chou, About 1 cup pastry crea...                           Christmas Croquembouche "
            ]
          },
          "metadata": {
            "tags": []
          },
          "execution_count": 287
        }
      ]
    },
    {
      "cell_type": "code",
      "metadata": {
        "id": "OLs7qdDi9Lvk",
        "colab_type": "code",
        "outputId": "7f76eb89-0140-4e73-f81f-26798ae6ccf9",
        "colab": {
          "base_uri": "https://localhost:8080/",
          "height": 176
        }
      },
      "source": [
        "df.ingredients.values[0]"
      ],
      "execution_count": 288,
      "outputs": [
        {
          "output_type": "execute_result",
          "data": {
            "text/plain": [
              "['12 egg whites',\n",
              " '12 egg yolks',\n",
              " '1 1/2 cups sugar',\n",
              " '3/4 cup rye whiskey',\n",
              " '12 egg whites',\n",
              " '3/4 cup brandy',\n",
              " '1/2 cup rum',\n",
              " '1 to 2 cups heavy cream, lightly whipped',\n",
              " 'Garnish: ground nutmeg']"
            ]
          },
          "metadata": {
            "tags": []
          },
          "execution_count": 288
        }
      ]
    },
    {
      "cell_type": "markdown",
      "metadata": {
        "id": "0URG85fmpnp1",
        "colab_type": "text"
      },
      "source": [
        "**BASIC PREPROCESSING**"
      ]
    },
    {
      "cell_type": "code",
      "metadata": {
        "id": "HCNqoHTjFre0",
        "colab_type": "code",
        "colab": {}
      },
      "source": [
        "\n",
        "stop_words=['i', 'me', 'my', 'myself', 'we', 'our', 'ours', 'ourselves', 'you', \"you're\", \"you've\", \"you'll\", \"you'd\", 'your', 'yours', 'yourself', 'yourselves', 'he', 'him', 'his', 'himself', 'she', \"she's\", 'her', 'hers', 'herself', 'it', \"it's\", 'its', 'itself', 'they', 'them', 'their', 'theirs', 'themselves', 'what', 'which', 'who', 'whom', 'this', 'that', \"that'll\", 'these', 'those', 'am', 'is', 'are', 'was', 'were', 'be', 'been', 'being', 'have', 'has', 'had', 'having', 'do', 'does', 'did', 'doing', 'a', 'an', 'the', 'and', 'but', 'if', 'or', 'because', 'as', 'until', 'while', 'of', 'at', 'by', 'for', 'with', 'about', 'against', 'between', 'into', 'through', 'during', 'before', 'after', 'above', 'below', 'to', 'from', 'up', 'down', 'in', 'out', 'on', 'off', 'over', 'under', 'again', 'further', 'then', 'once', 'here', 'there', 'when', 'where', 'why', 'how', 'all', 'any', 'both', 'each', 'few', 'more', 'most', 'other', 'some', 'such', 'no', 'nor', 'not', 'only', 'own', 'same', 'so', 'than', 'too', 'very', 's', 't', 'can', 'will', 'just', 'don', \"don't\", 'should', \"should've\", 'now', 'd', 'll', 'm', 'o', 're', 've', 'y', 'ain', 'aren', \"aren't\", 'couldn', \"couldn't\", 'didn', \"didn't\", 'doesn', \"doesn't\", 'hadn', \"hadn't\", 'hasn', \"hasn't\", 'haven', \"haven't\", 'isn', \"isn't\", 'ma', 'mightn', \"mightn't\", 'mustn', \"mustn't\", 'needn', \"needn't\", 'shan', \"shan't\", 'shouldn', \"shouldn't\", 'wasn', \"wasn't\", 'weren', \"weren't\", 'won', \"won't\", 'wouldn', \"wouldn't\"]"
      ],
      "execution_count": 0,
      "outputs": []
    },
    {
      "cell_type": "code",
      "metadata": {
        "id": "8QYDekWuAGr-",
        "colab_type": "code",
        "colab": {}
      },
      "source": [
        "ingridients=[]\n",
        "for item in df.ingredients.values:\n",
        "  x= \" \".join(item)\n",
        "  x = re.sub(\"^\\d+\\s|\\s\\d+\\s|\\s\\d+$|[^\\w]\", \" \", x)\n",
        "  x = re.sub(r'[0-9]+', ' ',x)\n",
        "  x = re.sub(r' +',' ',x)\n",
        "  x =  x.split(\" \")\n",
        "  x=list(set(x))[1:]\n",
        "  x=[i for i in x if i not in stop_words]\n",
        "  ingridients.append(x)\n"
      ],
      "execution_count": 0,
      "outputs": []
    },
    {
      "cell_type": "markdown",
      "metadata": {
        "id": "5In23Syminyc",
        "colab_type": "text"
      },
      "source": [
        "#**WEB SCRAPPING FOR FOOD LIST**"
      ]
    },
    {
      "cell_type": "markdown",
      "metadata": {
        "id": "Hyfs_gbwqB_5",
        "colab_type": "text"
      },
      "source": [
        "***As we have alot of unncessary words in the the recipe(cups,tablesspoons,number etc).We need to remove them and only have the words which are foods.For this we need to know which words are actual foods so we webscrap these words from various websites and create a list which we will use to filter our ingredient later*** "
      ]
    },
    {
      "cell_type": "code",
      "metadata": {
        "id": "4mIU1isQXSdk",
        "colab_type": "code",
        "colab": {}
      },
      "source": [
        "def preprocess(items):\n",
        "      items=\" \".join(items)\n",
        "      items = re.sub(\"[^\\w]\", \" \",items)\n",
        "      items= re.sub(r' +',' ',items).lower().split(\" \")\n",
        "      items=list(set(items))\n",
        "      return items\n"
      ],
      "execution_count": 0,
      "outputs": []
    },
    {
      "cell_type": "code",
      "metadata": {
        "id": "Pkeg8vDiVWZR",
        "colab_type": "code",
        "colab": {}
      },
      "source": [
        "#https://www.geeksforgeeks.org/implementing-web-scraping-python-beautiful-soup/\n",
        "\n",
        "#We scrap \n",
        "\n",
        "import requests\n",
        "from bs4 import BeautifulSoup \n",
        "import csv \n",
        "URL = \"http://www.thefoodcoach.com.au/food/?Alpha=%5BA-Z%5D\"\n",
        "r = requests.get(URL) \n",
        "  \n",
        "soup = BeautifulSoup(r.content, 'html5lib') \n",
        "  \n",
        "table = soup.find('div', attrs = {'class':'search_results mb-5'}) \n",
        "items=[] \n",
        "table_2=table.find_all('td')\n",
        "for row in table_2:\n",
        "    items.append(row.a.text.rstrip())"
      ],
      "execution_count": 0,
      "outputs": []
    },
    {
      "cell_type": "code",
      "metadata": {
        "id": "IYJGtaGcjimx",
        "colab_type": "code",
        "colab": {}
      },
      "source": [
        "items=preprocess(items)"
      ],
      "execution_count": 0,
      "outputs": []
    },
    {
      "cell_type": "code",
      "metadata": {
        "id": "7llcHVU8ah2y",
        "colab_type": "code",
        "colab": {}
      },
      "source": [
        "URL = \"https://www.enchantedlearning.com/wordlist/food.shtml\"\n",
        "r = requests.get(URL) \n",
        "item_2=[] \n",
        "soup = BeautifulSoup(r.content, 'html5lib')   \n",
        "table = soup.find_all('div', attrs = {'wordlist-item'}) \n",
        "for row in table:\n",
        "  item_2.append(row.text)\n",
        "  "
      ],
      "execution_count": 0,
      "outputs": []
    },
    {
      "cell_type": "code",
      "metadata": {
        "id": "_fQdiGGDjPUY",
        "colab_type": "code",
        "colab": {}
      },
      "source": [
        "item_2=preprocess(item_2)"
      ],
      "execution_count": 0,
      "outputs": []
    },
    {
      "cell_type": "code",
      "metadata": {
        "id": "3bbdNLjpkpAe",
        "colab_type": "code",
        "colab": {}
      },
      "source": [
        "URL = \"https://foodforbreastcancer.com/food-list.php\"\n",
        "r = requests.get(URL) \n",
        "items_3=[]\n",
        "soup = BeautifulSoup(r.content, 'html5lib')\n",
        "table = soup.find_all('li') \n",
        "for row in table:\n",
        "  items_3.append(row.text)"
      ],
      "execution_count": 0,
      "outputs": []
    },
    {
      "cell_type": "code",
      "metadata": {
        "id": "rNh6Cj8TlcYX",
        "colab_type": "code",
        "colab": {}
      },
      "source": [
        "items_3=preprocess(items_3)"
      ],
      "execution_count": 0,
      "outputs": []
    },
    {
      "cell_type": "code",
      "metadata": {
        "id": "HOR9j6vzdM9x",
        "colab_type": "code",
        "colab": {}
      },
      "source": [
        "#We scrap 3 websites and get 3 lists of food items which we merge by eliminating duplicated using the set operations.\n",
        "\n",
        "full_list=list(set(list(set(items+item_2))+items_3))"
      ],
      "execution_count": 0,
      "outputs": []
    },
    {
      "cell_type": "code",
      "metadata": {
        "id": "vm2zEW1zmu8a",
        "colab_type": "code",
        "outputId": "51d255f3-293c-4859-c062-610b6d419a26",
        "colab": {
          "base_uri": "https://localhost:8080/",
          "height": 34
        }
      },
      "source": [
        "len(full_list)"
      ],
      "execution_count": 375,
      "outputs": [
        {
          "output_type": "execute_result",
          "data": {
            "text/plain": [
              "1107"
            ]
          },
          "metadata": {
            "tags": []
          },
          "execution_count": 375
        }
      ]
    },
    {
      "cell_type": "markdown",
      "metadata": {
        "id": "p8vMcks5ixBX",
        "colab_type": "text"
      },
      "source": [
        "# **PORTER STEMMING ALL THE WORDS**"
      ]
    },
    {
      "cell_type": "markdown",
      "metadata": {
        "id": "f5g7P7c6q-iA",
        "colab_type": "text"
      },
      "source": [
        "***We need to make sure that all of our words are resistant to plural,singular variance and thus we convert each word into its root word using porter stemming.***"
      ]
    },
    {
      "cell_type": "code",
      "metadata": {
        "id": "iiXH-OvAel0y",
        "colab_type": "code",
        "colab": {}
      },
      "source": [
        "def stem(a):\n",
        "    p = nltk.PorterStemmer()\n",
        "    a = [p.stem(word) for word in a] # ['s', 'o', 'c', ',', ' ', '3', '2', '\\n', ...]\n",
        "    return a"
      ],
      "execution_count": 0,
      "outputs": []
    },
    {
      "cell_type": "code",
      "metadata": {
        "id": "-SpxHdHmexl7",
        "colab_type": "code",
        "colab": {}
      },
      "source": [
        "filtered_ingridients=[]\n",
        "for row in ingridients:\n",
        "  row=stem(row)\n",
        "  filtered_ingridients.append(row)"
      ],
      "execution_count": 0,
      "outputs": []
    },
    {
      "cell_type": "code",
      "metadata": {
        "id": "D8Jv7f8ZiM2S",
        "colab_type": "code",
        "colab": {}
      },
      "source": [
        "filtered_items=stem(full_list)"
      ],
      "execution_count": 0,
      "outputs": []
    },
    {
      "cell_type": "markdown",
      "metadata": {
        "id": "qL-oL0jFnooD",
        "colab_type": "text"
      },
      "source": [
        "# **FILTERING OUR INGRIDIENTS**"
      ]
    },
    {
      "cell_type": "markdown",
      "metadata": {
        "id": "QBoRlvPlrYnA",
        "colab_type": "text"
      },
      "source": [
        "***Now that we have stemmed our words into the root words it is time to filter the main recipe where only the food words will left and nothing else***"
      ]
    },
    {
      "cell_type": "code",
      "metadata": {
        "id": "-aJgqxaWneOw",
        "colab_type": "code",
        "colab": {}
      },
      "source": [
        "main_ingridients=[]\n",
        "for row in filtered_ingridients:\n",
        "  row=set(row)\n",
        "  items=set(filtered_items)\n",
        "  new_row=row.intersection(items)\n",
        "  main_ingridients.append(list(new_row))"
      ],
      "execution_count": 0,
      "outputs": []
    },
    {
      "cell_type": "markdown",
      "metadata": {
        "id": "dM0vjXV2pQKo",
        "colab_type": "text"
      },
      "source": [
        "# **FINAL DATAFRAME WITH DISHES AND THERE INGRIDIENTS**"
      ]
    },
    {
      "cell_type": "code",
      "metadata": {
        "id": "n39FYTc8oOvT",
        "colab_type": "code",
        "colab": {}
      },
      "source": [
        "recipe=[\",\".join(x) for x in main_ingridients]"
      ],
      "execution_count": 0,
      "outputs": []
    },
    {
      "cell_type": "code",
      "metadata": {
        "id": "By5v_vw5pLKG",
        "colab_type": "code",
        "colab": {}
      },
      "source": [
        "df.ingredients=recipe"
      ],
      "execution_count": 0,
      "outputs": []
    },
    {
      "cell_type": "code",
      "metadata": {
        "id": "uRmQN3fWrm3n",
        "colab_type": "code",
        "colab": {
          "base_uri": "https://localhost:8080/",
          "height": 406
        },
        "outputId": "0c654d00-3423-46d1-a66a-a7fc73e29b31"
      },
      "source": [
        "df"
      ],
      "execution_count": 484,
      "outputs": [
        {
          "output_type": "execute_result",
          "data": {
            "text/html": [
              "<div>\n",
              "<style scoped>\n",
              "    .dataframe tbody tr th:only-of-type {\n",
              "        vertical-align: middle;\n",
              "    }\n",
              "\n",
              "    .dataframe tbody tr th {\n",
              "        vertical-align: top;\n",
              "    }\n",
              "\n",
              "    .dataframe thead th {\n",
              "        text-align: right;\n",
              "    }\n",
              "</style>\n",
              "<table border=\"1\" class=\"dataframe\">\n",
              "  <thead>\n",
              "    <tr style=\"text-align: right;\">\n",
              "      <th></th>\n",
              "      <th>ingredients</th>\n",
              "      <th>title</th>\n",
              "    </tr>\n",
              "  </thead>\n",
              "  <tbody>\n",
              "    <tr>\n",
              "      <th>0</th>\n",
              "      <td>egg,nutmeg,whip,rye,sugar,cream,yolk,white</td>\n",
              "      <td>Christmas Eggnog</td>\n",
              "    </tr>\n",
              "    <tr>\n",
              "      <th>1</th>\n",
              "      <td>low,bay,white,oliv,wine,stew,veal,sage,chestnu...</td>\n",
              "      <td>Veal, Carrot and Chestnut Ragoût</td>\n",
              "    </tr>\n",
              "    <tr>\n",
              "      <th>2</th>\n",
              "      <td>extra,brown,good,chop,salt,white,bread,nutmeg,...</td>\n",
              "      <td>Caramelized Bread Pudding with Chocolate and C...</td>\n",
              "    </tr>\n",
              "    <tr>\n",
              "      <th>3</th>\n",
              "      <td>chees,peppercorn,cream,green,dri</td>\n",
              "      <td>Sherried Stilton and Green Peppercorn Spread</td>\n",
              "    </tr>\n",
              "    <tr>\n",
              "      <th>4</th>\n",
              "      <td>white,cinnamon,egg,extract,almond,sugar,toast,...</td>\n",
              "      <td>Almond-Chocolate Macaroons</td>\n",
              "    </tr>\n",
              "    <tr>\n",
              "      <th>...</th>\n",
              "      <td>...</td>\n",
              "      <td>...</td>\n",
              "    </tr>\n",
              "    <tr>\n",
              "      <th>25318</th>\n",
              "      <td>pepper,sauc,oliv,celeri,bell,lentil,oil,beef,g...</td>\n",
              "      <td>Spinach and Lentil Soup</td>\n",
              "    </tr>\n",
              "    <tr>\n",
              "      <th>25319</th>\n",
              "      <td>coriand,water,powder,spinach,chop,coars,oil,in...</td>\n",
              "      <td>Fresh Cheese with Spinach</td>\n",
              "    </tr>\n",
              "    <tr>\n",
              "      <th>25320</th>\n",
              "      <td>tortilla,water,black,chop,salt,leav,oliv,coars...</td>\n",
              "      <td>Jalapeño and Lime–Marinated Skirt Steak Tacos</td>\n",
              "    </tr>\n",
              "    <tr>\n",
              "      <th>25321</th>\n",
              "      <td>egg,bake,butter,semolina,almond,juic,sugar,pow...</td>\n",
              "      <td>Semolina–Lemon Syrup Cakes</td>\n",
              "    </tr>\n",
              "    <tr>\n",
              "      <th>25322</th>\n",
              "      <td>low,fat,cook,chop,salt,chicken,oliv,coars,wine...</td>\n",
              "      <td>Chicken Cacciatore</td>\n",
              "    </tr>\n",
              "  </tbody>\n",
              "</table>\n",
              "<p>25323 rows × 2 columns</p>\n",
              "</div>"
            ],
            "text/plain": [
              "                                             ingredients                                              title\n",
              "0             egg,nutmeg,whip,rye,sugar,cream,yolk,white                                  Christmas Eggnog \n",
              "1      low,bay,white,oliv,wine,stew,veal,sage,chestnu...                  Veal, Carrot and Chestnut Ragoût \n",
              "2      extra,brown,good,chop,salt,white,bread,nutmeg,...  Caramelized Bread Pudding with Chocolate and C...\n",
              "3                       chees,peppercorn,cream,green,dri      Sherried Stilton and Green Peppercorn Spread \n",
              "4      white,cinnamon,egg,extract,almond,sugar,toast,...                        Almond-Chocolate Macaroons \n",
              "...                                                  ...                                                ...\n",
              "25318  pepper,sauc,oliv,celeri,bell,lentil,oil,beef,g...                           Spinach and Lentil Soup \n",
              "25319  coriand,water,powder,spinach,chop,coars,oil,in...                         Fresh Cheese with Spinach \n",
              "25320  tortilla,water,black,chop,salt,leav,oliv,coars...     Jalapeño and Lime–Marinated Skirt Steak Tacos \n",
              "25321  egg,bake,butter,semolina,almond,juic,sugar,pow...                        Semolina–Lemon Syrup Cakes \n",
              "25322  low,fat,cook,chop,salt,chicken,oliv,coars,wine...                                Chicken Cacciatore \n",
              "\n",
              "[25323 rows x 2 columns]"
            ]
          },
          "metadata": {
            "tags": []
          },
          "execution_count": 484
        }
      ]
    },
    {
      "cell_type": "markdown",
      "metadata": {
        "id": "hggey_UnGp10",
        "colab_type": "text"
      },
      "source": [
        "# **USING WORD2VEC**"
      ]
    },
    {
      "cell_type": "markdown",
      "metadata": {
        "id": "ZCXxTVg9rr6C",
        "colab_type": "text"
      },
      "source": [
        "***We vectorize our ingredients per dish to find some similarity later using various distances***"
      ]
    },
    {
      "cell_type": "code",
      "metadata": {
        "id": "s-iaemlbq9AL",
        "colab_type": "code",
        "colab": {}
      },
      "source": [
        "\n",
        "from gensim.models import Word2Vec\n",
        "from gensim.models import KeyedVectors"
      ],
      "execution_count": 0,
      "outputs": []
    },
    {
      "cell_type": "code",
      "metadata": {
        "id": "FshmnHdGssWG",
        "colab_type": "code",
        "colab": {}
      },
      "source": [
        "w2v_model_train = Word2Vec(main_ingridients, min_count = 1, size =150, workers= 4)"
      ],
      "execution_count": 0,
      "outputs": []
    },
    {
      "cell_type": "code",
      "metadata": {
        "id": "ynGcOj81s0hu",
        "colab_type": "code",
        "outputId": "6bf1a9b3-865c-4933-e990-877e8294e9ed",
        "colab": {
          "base_uri": "https://localhost:8080/",
          "height": 52
        }
      },
      "source": [
        "w2v_words_train = list(w2v_model_train.wv.vocab)\n",
        "print('number of words that occured minimum 5 times ',len(w2v_words_train))\n",
        "print('sample words', w2v_words_train[0:10])"
      ],
      "execution_count": 314,
      "outputs": [
        {
          "output_type": "stream",
          "text": [
            "number of words that occured minimum 5 times  824\n",
            "sample words ['egg', 'nutmeg', 'whip', 'rye', 'sugar', 'cream', 'yolk', 'white', 'low', 'bay']\n"
          ],
          "name": "stdout"
        }
      ]
    },
    {
      "cell_type": "code",
      "metadata": {
        "id": "d9DgrriS0Aeh",
        "colab_type": "code",
        "colab": {}
      },
      "source": [
        "from tqdm import tqdm"
      ],
      "execution_count": 0,
      "outputs": []
    },
    {
      "cell_type": "code",
      "metadata": {
        "id": "DfP-HqNttBag",
        "colab_type": "code",
        "outputId": "6e9ebcb0-0e32-4e69-acec-cbd9242f76bb",
        "colab": {
          "base_uri": "https://localhost:8080/",
          "height": 34
        }
      },
      "source": [
        "train_w2v = []\n",
        "\n",
        "for sent in tqdm(main_ingridients):\n",
        "    sent_vect = np.zeros(150)\n",
        "    cnt_words = 0\n",
        "    for word in sent:\n",
        "        if word in w2v_words_train:\n",
        "            vect = w2v_model_train.wv[word]#creating a matrix of 50 length for each word\n",
        "            sent_vect += vect \n",
        "            cnt_words = cnt_words + 1\n",
        "    if cnt_words !=0:\n",
        "        sent_vect /= cnt_words\n",
        "    \n",
        "        train_w2v.append(sent_vect)"
      ],
      "execution_count": 316,
      "outputs": [
        {
          "output_type": "stream",
          "text": [
            "100%|██████████| 25323/25323 [00:02<00:00, 9305.53it/s]\n"
          ],
          "name": "stderr"
        }
      ]
    },
    {
      "cell_type": "code",
      "metadata": {
        "id": "zI8FFMvK2M4w",
        "colab_type": "code",
        "colab": {}
      },
      "source": [
        "train_w2v=np.array(train_w2v)"
      ],
      "execution_count": 0,
      "outputs": []
    },
    {
      "cell_type": "markdown",
      "metadata": {
        "id": "uOtwiYJ3r5Rj",
        "colab_type": "text"
      },
      "source": [
        "**USING COSINE-SIMILARITY**"
      ]
    },
    {
      "cell_type": "code",
      "metadata": {
        "id": "EoixbvJF_Ah4",
        "colab_type": "code",
        "colab": {}
      },
      "source": [
        "\n",
        "from sklearn.metrics.pairwise import euclidean_distances\n",
        "\n",
        "x=euclidean_distances(train_w2v)"
      ],
      "execution_count": 0,
      "outputs": []
    },
    {
      "cell_type": "code",
      "metadata": {
        "id": "8QDKEkf6_04i",
        "colab_type": "code",
        "colab": {}
      },
      "source": [
        "\n",
        "def similar_word(index):\n",
        "    \n",
        "    row=x[index]\n",
        "    max_cosine=np.argsort(row)[:5]\n",
        "    return df.iloc[max_cosine]"
      ],
      "execution_count": 0,
      "outputs": []
    },
    {
      "cell_type": "code",
      "metadata": {
        "id": "LWiVGSDMF85-",
        "colab_type": "code",
        "outputId": "e4a657a0-0617-4eff-aa35-d68c539be4e0",
        "colab": {
          "base_uri": "https://localhost:8080/",
          "height": 34
        }
      },
      "source": [
        "print(df.iloc[0].ingredients)"
      ],
      "execution_count": 485,
      "outputs": [
        {
          "output_type": "stream",
          "text": [
            "egg,nutmeg,whip,rye,sugar,cream,yolk,white\n"
          ],
          "name": "stdout"
        }
      ]
    },
    {
      "cell_type": "code",
      "metadata": {
        "id": "3RjI0LEt_5rv",
        "colab_type": "code",
        "outputId": "ac88503c-2956-4af0-9fd6-5678b4bf831b",
        "colab": {
          "base_uri": "https://localhost:8080/",
          "height": 125
        }
      },
      "source": [
        "\n",
        "for m in similar_word(0).ingredients.values:\n",
        "  print(m)\n"
      ],
      "execution_count": 486,
      "outputs": [
        {
          "output_type": "stream",
          "text": [
            "egg,nutmeg,whip,rye,sugar,cream,yolk,white\n",
            "coriand,eye,black,chop,salt,leav,smoke,cream,oil,slice,garlic,tomatillo,seed,cumin,cilantro,clove,ham,pepper,veget,onion,sour,chive,pea\n",
            "low,eye,free,water,fat,spinach,black,salt,chicken,oliv,pea,juic,oil,mint,lemon,cayenn,fennel,coffe,seed,spice,babi,pepper,honey,orang,fresh\n",
            "cayenn,coars,cinnamon,orang,almond,date,pistachio,cream,toast,dri,apricot,whole,chop,cardamom\n",
            "granni,coars,appl,wine,spoon,cook,see,grape,sugar,green,powder,mint,vitamin,dri,chop,smith,leav,white\n"
          ],
          "name": "stdout"
        }
      ]
    },
    {
      "cell_type": "markdown",
      "metadata": {
        "id": "gbWHNkLTsSjl",
        "colab_type": "text"
      },
      "source": [
        "**OBSERVATIONS:**\n",
        "1.We can't notice any semantic simialrity here and the results are not good."
      ]
    },
    {
      "cell_type": "markdown",
      "metadata": {
        "id": "TZYdvGEQ9Zgm",
        "colab_type": "text"
      },
      "source": [
        "# **USING BAG OF WORDS**"
      ]
    },
    {
      "cell_type": "code",
      "metadata": {
        "id": "2enAt4B4AVuh",
        "colab_type": "code",
        "colab": {}
      },
      "source": [
        "from sklearn.feature_extraction.text import CountVectorizer"
      ],
      "execution_count": 0,
      "outputs": []
    },
    {
      "cell_type": "code",
      "metadata": {
        "id": "Bs1zgKZo8bQ6",
        "colab_type": "code",
        "colab": {}
      },
      "source": [
        "vectorizer=CountVectorizer()\n",
        "vectors=vectorizer.fit_transform(df.ingredients)\n"
      ],
      "execution_count": 0,
      "outputs": []
    },
    {
      "cell_type": "code",
      "metadata": {
        "id": "RMzyUB_qTBAz",
        "colab_type": "code",
        "colab": {}
      },
      "source": [
        "vectors=vectors.todense()"
      ],
      "execution_count": 0,
      "outputs": []
    },
    {
      "cell_type": "markdown",
      "metadata": {
        "id": "HDmNC-S5Gcxh",
        "colab_type": "text"
      },
      "source": [
        "**USING BAG OF WORDS WITH HAMMING DISTANCE**"
      ]
    },
    {
      "cell_type": "code",
      "metadata": {
        "id": "LgutCbq5-tIN",
        "colab_type": "code",
        "colab": {}
      },
      "source": [
        "from sklearn.metrics import pairwise_distances\n",
        "from scipy.spatial.distance import hamming\n",
        "\n",
        "\n",
        "#constructing a matrix where there is pairwise simialrity between all the points\n",
        "\n",
        "hamming_matrix=pairwise_distances(vectors,metric='hamming')"
      ],
      "execution_count": 0,
      "outputs": []
    },
    {
      "cell_type": "code",
      "metadata": {
        "id": "S7pRchz-FISw",
        "colab_type": "code",
        "colab": {}
      },
      "source": [
        "def hamming_similarity(index):\n",
        "    \n",
        "    row=hamming_matrix[index]\n",
        "    max_cosine=np.argsort(row)[1:6]\n",
        "    return df.iloc[max_cosine]"
      ],
      "execution_count": 0,
      "outputs": []
    },
    {
      "cell_type": "code",
      "metadata": {
        "id": "WMYrJaXc9iqV",
        "colab_type": "code",
        "outputId": "664d3642-8850-4f0e-a8aa-ad0d09eee246",
        "colab": {
          "base_uri": "https://localhost:8080/",
          "height": 34
        }
      },
      "source": [
        "print(df.iloc[1].ingredients)"
      ],
      "execution_count": 494,
      "outputs": [
        {
          "output_type": "stream",
          "text": [
            "low,bay,white,oliv,wine,stew,veal,sage,chestnut,oil,carrot,meat,dri,onion,chop,salt,garlic,can,chicken,fresh\n"
          ],
          "name": "stdout"
        }
      ]
    },
    {
      "cell_type": "code",
      "metadata": {
        "id": "eGAcLHZ_81UM",
        "colab_type": "code",
        "outputId": "080b7290-e4b3-47e6-8d99-df293882279c",
        "colab": {
          "base_uri": "https://localhost:8080/",
          "height": 105
        }
      },
      "source": [
        "for j in hamming_similarity(1\n",
        "                            ).ingredients.values:\n",
        "  print(j)"
      ],
      "execution_count": 495,
      "outputs": [
        {
          "output_type": "stream",
          "text": [
            "low,white,oliv,wine,fennel,seed,oil,dri,onion,chop,saffron,salt,garlic,can,chicken,fresh\n",
            "low,white,oliv,wine,oil,rosemari,dri,clove,salt,garlic,can,chicken,fresh\n",
            "low,bay,chicken,wine,can,butter,rosemari,dri,onion,chop,salt,leav,white,fresh\n",
            "low,white,oliv,potato,wine,butter,oil,dri,salt,garlic,can,chicken\n",
            "low,white,oliv,wine,celeri,sage,turkey,butter,thyme,oil,carrot,rosemari,dri,onion,flour,chop,salt,garlic,can,chicken\n"
          ],
          "name": "stdout"
        }
      ]
    },
    {
      "cell_type": "markdown",
      "metadata": {
        "id": "6OSIeT-OsqkQ",
        "colab_type": "text"
      },
      "source": [
        "**OBSERVATIONS**\n",
        "\n",
        "1.We see much better results and there is clear semantic realtion as hamming distance works really well for categroical data.The Hamming distance between 1-D arrays u and v, is simply the proportion of disagreeing components in u and v so lesser the distance more the similarity"
      ]
    },
    {
      "cell_type": "markdown",
      "metadata": {
        "id": "dS1ke1C5HMwm",
        "colab_type": "text"
      },
      "source": [
        "**USING JACCARD DISTANCES FOR SIMILARITY**"
      ]
    },
    {
      "cell_type": "code",
      "metadata": {
        "colab_type": "code",
        "id": "ERaPdjFaHdi-",
        "outputId": "9819d5ee-988f-4148-f4fe-867d70d3f66c",
        "colab": {
          "base_uri": "https://localhost:8080/",
          "height": 72
        }
      },
      "source": [
        "from sklearn.metrics import pairwise_distances\n",
        "from scipy.spatial.distance import hamming\n",
        "\n",
        "#constructing a matrix where there is pairwise simialrity between all the points\n",
        "jaccard_matrix=pairwise_distances(vectors,metric='jaccard')"
      ],
      "execution_count": 329,
      "outputs": [
        {
          "output_type": "stream",
          "text": [
            "/usr/local/lib/python3.6/dist-packages/sklearn/metrics/pairwise.py:1575: DataConversionWarning: Data was converted to boolean for metric jaccard\n",
            "  warnings.warn(msg, DataConversionWarning)\n"
          ],
          "name": "stderr"
        }
      ]
    },
    {
      "cell_type": "code",
      "metadata": {
        "colab_type": "code",
        "id": "K1yrSKk7HdjS",
        "colab": {}
      },
      "source": [
        "def jaccard_similarity(index):\n",
        "    \n",
        "    row=jaccard_matrix[index]\n",
        "    max_cosine=np.argsort(row)[1:6]\n",
        "    return df.iloc[max_cosine]"
      ],
      "execution_count": 0,
      "outputs": []
    },
    {
      "cell_type": "code",
      "metadata": {
        "colab_type": "code",
        "outputId": "36f4aa57-779d-4318-aff8-acfa0a9f5aa2",
        "id": "y_Hg-gMRHdjZ",
        "colab": {
          "base_uri": "https://localhost:8080/",
          "height": 34
        }
      },
      "source": [
        "print(df.iloc[1].ingredients)"
      ],
      "execution_count": 491,
      "outputs": [
        {
          "output_type": "stream",
          "text": [
            "low,bay,white,oliv,wine,stew,veal,sage,chestnut,oil,carrot,meat,dri,onion,chop,salt,garlic,can,chicken,fresh\n"
          ],
          "name": "stdout"
        }
      ]
    },
    {
      "cell_type": "code",
      "metadata": {
        "colab_type": "code",
        "outputId": "2553f6c6-9f6b-479e-b50d-0f1f5c7eca04",
        "id": "bOV8hTiiHdje",
        "colab": {
          "base_uri": "https://localhost:8080/",
          "height": 105
        }
      },
      "source": [
        "for i in jaccard_similarity(1).ingredients.values:\n",
        "  print(i)"
      ],
      "execution_count": 492,
      "outputs": [
        {
          "output_type": "stream",
          "text": [
            "low,white,oliv,wine,fennel,seed,oil,dri,onion,chop,saffron,salt,garlic,can,chicken,fresh\n",
            "low,chop,salt,chicken,white,oliv,coars,wine,sage,oil,carrot,celeri,slice,garlic,order,rosemari,clove,veal,parsley,dri,onion,fresh\n",
            "low,white,oliv,wine,celeri,sage,turkey,butter,thyme,oil,carrot,rosemari,dri,onion,flour,chop,salt,garlic,can,chicken\n",
            "low,chicken,oliv,wine,mustard,marjoram,dijon,thyme,oil,rosemari,dri,onion,chop,salt,garlic,can,white,fresh\n",
            "low,white,oliv,wine,oil,rosemari,dri,clove,salt,garlic,can,chicken,fresh\n"
          ],
          "name": "stdout"
        }
      ]
    },
    {
      "cell_type": "markdown",
      "metadata": {
        "id": "bpA5GKEbtfju",
        "colab_type": "text"
      },
      "source": [
        "**OBSERVATIONS:**\n",
        "\n",
        "1.Jaccard distance works very well"
      ]
    },
    {
      "cell_type": "markdown",
      "metadata": {
        "id": "FgProU54-k6e",
        "colab_type": "text"
      },
      "source": [
        "# **FINAL PIPELINE**"
      ]
    },
    {
      "cell_type": "code",
      "metadata": {
        "id": "zNODAupA_MuN",
        "colab_type": "code",
        "colab": {}
      },
      "source": [
        "from scipy.spatial import distance\n",
        "def find_top_5_ham(vector_i):\n",
        "  jaccard_distances=[]\n",
        "  for vector_j in vectors:\n",
        "       vector_i=vector_i.ravel()\n",
        "       vector_j=vector_j.ravel()\n",
        "       jaccard_distances.append(distance.hamming(vector_i,vector_j))\n",
        "  top_5_index=np.argsort(jaccard_distances)[:5]\n",
        "  top_5_df=df.iloc[top_5_index].reset_index(drop=True)\n",
        "  return top_5_df"
      ],
      "execution_count": 0,
      "outputs": []
    },
    {
      "cell_type": "code",
      "metadata": {
        "id": "O4bOU4DYvH3i",
        "colab_type": "code",
        "colab": {}
      },
      "source": [
        "from scipy.spatial import distance\n",
        "def find_top_5_jac(vector_i):\n",
        "  jaccard_distances=[]\n",
        "  for vector_j in vectors:\n",
        "       vector_i=vector_i.ravel()\n",
        "       vector_j=vector_j.ravel()\n",
        "       jaccard_distances.append(distance.jaccard(vector_i,vector_j))\n",
        "  top_5_index=np.argsort(jaccard_distances)[:5]\n",
        "  top_5_df=df.iloc[top_5_index].reset_index(drop=True)\n",
        "  return top_5_df"
      ],
      "execution_count": 0,
      "outputs": []
    },
    {
      "cell_type": "code",
      "metadata": {
        "id": "2eSylh4hAvtw",
        "colab_type": "code",
        "colab": {}
      },
      "source": [
        "def run_app():\n",
        "  ing=input(\"Enter your favourite ingridients : \")\n",
        "  print()\n",
        "  ing=ing.split(\",\")\n",
        "  ing=stem(ing)\n",
        "  ing=\",\".join(ing)\n",
        "  ing_vector=vectorizer.transform([ing]).todense()\n",
        "  my_top_5=find_top_5_jac(ing_vector)\n",
        "  print(my_top_5.to_string())"
      ],
      "execution_count": 0,
      "outputs": []
    },
    {
      "cell_type": "markdown",
      "metadata": {
        "id": "SupyAtoFvu3h",
        "colab_type": "text"
      },
      "source": [
        "**RUNNING WITH HAMMING DISTANCE**"
      ]
    },
    {
      "cell_type": "code",
      "metadata": {
        "id": "-bXsawQHA40G",
        "colab_type": "code",
        "colab": {
          "base_uri": "https://localhost:8080/",
          "height": 158
        },
        "outputId": "7f9ffcfd-2d66-444c-f7d5-fe221706cc92"
      },
      "source": [
        "run_app()"
      ],
      "execution_count": 517,
      "outputs": [
        {
          "output_type": "stream",
          "text": [
            "Enter your favourite ingridients : chicken,tomato,garlic,carrot\n",
            "\n",
            "          ingredients                            title\n",
            "0              tomato                Crushed Tomatoes \n",
            "1                                Lacy Parmesan Crisps \n",
            "2  buttermilk,chicken      Buttermilk Roasted Chicken \n",
            "3                      Grandma Reggie's chopped liver \n",
            "4                               Strozzapreti and Pici \n"
          ],
          "name": "stdout"
        }
      ]
    },
    {
      "cell_type": "markdown",
      "metadata": {
        "id": "OvFYTGG5v0Zt",
        "colab_type": "text"
      },
      "source": [
        "RUNNING WITH JACCARD DISTANCE"
      ]
    },
    {
      "cell_type": "code",
      "metadata": {
        "id": "-7ksKZDdvrsn",
        "colab_type": "code",
        "colab": {
          "base_uri": "https://localhost:8080/",
          "height": 158
        },
        "outputId": "36de7b4c-84db-4625-c149-1ff9d9dc41ab"
      },
      "source": [
        "run_app()"
      ],
      "execution_count": 519,
      "outputs": [
        {
          "output_type": "stream",
          "text": [
            "Enter your favourite ingridients : chicken,tomato,garlic,carrot\n",
            "\n",
            "                                         ingredients                                              title\n",
            "0   basil,leav,tomato,clove,garlic,can,chicken,fresh                                Light Tomato Sauce \n",
            "1  low,butter,cream,carrot,clove,salt,garlic,chicken                                      Carrot Purée \n",
            "2                       oliv,oil,tomato,clove,garlic                             Heirloom Tomato Salad \n",
            "3  bread,oliv,organ,oil,tomato,loaf,onion,clove,g...                                 Pappa al Pomodoro \n",
            "4  bread,oil,tomato,french,dri,clove,fresh,garlic...  Chicken Breasts with Sun-Dried Tomato and Garl...\n"
          ],
          "name": "stdout"
        }
      ]
    },
    {
      "cell_type": "markdown",
      "metadata": {
        "id": "puJ5EpHDvAL2",
        "colab_type": "text"
      },
      "source": [
        "# **CONCLUSION**\n",
        "\n",
        "1.During production we see better results with Jaccard distance than hamming distance "
      ]
    },
    {
      "cell_type": "code",
      "metadata": {
        "id": "MppQc_XhuqQh",
        "colab_type": "code",
        "colab": {}
      },
      "source": [
        ""
      ],
      "execution_count": 0,
      "outputs": []
    }
  ]
}